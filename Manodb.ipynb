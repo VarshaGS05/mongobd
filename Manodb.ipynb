{
 "cells": [
  {
   "cell_type": "code",
   "execution_count": 1,
   "id": "e0dbc850",
   "metadata": {},
   "outputs": [
    {
     "name": "stdout",
     "output_type": "stream",
     "text": [
      "Collecting pymongoNote: you may need to restart the kernel to use updated packages.\n",
      "  Using cached pymongo-4.3.3-cp39-cp39-win_amd64.whl (382 kB)\n",
      "Collecting dnspython<3.0.0,>=1.16.0\n",
      "  Using cached dnspython-2.3.0-py3-none-any.whl (283 kB)\n",
      "Installing collected packages: dnspython, pymongo\n",
      "Successfully installed dnspython-2.3.0 pymongo-4.3.3\n",
      "\n"
     ]
    }
   ],
   "source": [
    "pip install pymongo"
   ]
  },
  {
   "cell_type": "code",
   "execution_count": 2,
   "id": "d5db958c",
   "metadata": {},
   "outputs": [],
   "source": [
    "\n",
    "                    \n",
    "    \n",
    "        "
   ]
  },
  {
   "cell_type": "code",
   "execution_count": 2,
   "id": "6c2fa625",
   "metadata": {},
   "outputs": [
    {
     "data": {
      "text/plain": [
       "'4.3.3'"
      ]
     },
     "execution_count": 2,
     "metadata": {},
     "output_type": "execute_result"
    }
   ],
   "source": [
    "import pymongo\n",
    "pymongo.version"
   ]
  },
  {
   "cell_type": "code",
   "execution_count": 3,
   "id": "2d62247b",
   "metadata": {},
   "outputs": [],
   "source": [
    "#Create a database called \"mydatabase\":\n",
    "import pymongo\n",
    "\n",
    "myclient = pymongo.MongoClient(\"mongodb://localhost:27017/\")\n",
    "\n",
    "mydb = myclient[\"mydatabase\"]"
   ]
  },
  {
   "cell_type": "code",
   "execution_count": null,
   "id": "430a2da9",
   "metadata": {},
   "outputs": [],
   "source": []
  },
  {
   "cell_type": "code",
   "execution_count": 4,
   "id": "8415c4ec",
   "metadata": {},
   "outputs": [
    {
     "data": {
      "text/plain": [
       "['admin', 'config', 'local']"
      ]
     },
     "execution_count": 4,
     "metadata": {},
     "output_type": "execute_result"
    }
   ],
   "source": [
    "myclient.list_database_names()"
   ]
  },
  {
   "cell_type": "code",
   "execution_count": 5,
   "id": "8baa7921",
   "metadata": {},
   "outputs": [],
   "source": [
    "dblist = myclient.list_database_names()\n",
    "if \"mydatabase\" in dblist:\n",
    "    print(\"The database exists.\")"
   ]
  },
  {
   "cell_type": "code",
   "execution_count": 6,
   "id": "33d4a70c",
   "metadata": {},
   "outputs": [],
   "source": [
    "import pymongo\n",
    "\n",
    "myclient = pymongo.MongoClient(\"mongodb://localhost:27017/\")\n",
    "mydb = myclient[\"mydatabase\"]\n",
    "\n",
    "mycol = mydb[\"customers\"]"
   ]
  },
  {
   "cell_type": "code",
   "execution_count": 7,
   "id": "6617e7d1",
   "metadata": {},
   "outputs": [
    {
     "name": "stdout",
     "output_type": "stream",
     "text": [
      "[]\n"
     ]
    }
   ],
   "source": [
    "print(mydb.list_collection_names())"
   ]
  },
  {
   "cell_type": "code",
   "execution_count": 8,
   "id": "d5f1ce8d",
   "metadata": {},
   "outputs": [],
   "source": [
    "collist = mydb.list_collection_names()\n",
    "if \"customers\" in collist:\n",
    "    print(\"The collection exists.\")"
   ]
  },
  {
   "cell_type": "code",
   "execution_count": 9,
   "id": "9d3014e6",
   "metadata": {},
   "outputs": [],
   "source": [
    "#Insert Into Collection\n",
    "import pymongo\n",
    "\n",
    "myclient = pymongo.MongoClient(\"mongodb://localhost:27017/\")\n",
    "mydb = myclient[\"mydatabase\"]\n",
    "mycol = mydb[\"customers\"]\n",
    "\n",
    "mydict = { \"name\": \"John\", \"address\": \"Highway 37\" }\n",
    "\n",
    "x = mycol.insert_one(mydict)"
   ]
  },
  {
   "cell_type": "code",
   "execution_count": 10,
   "id": "c22fcf7d",
   "metadata": {},
   "outputs": [
    {
     "name": "stdout",
     "output_type": "stream",
     "text": [
      "648ef11ad0b39d33fba38a44\n"
     ]
    }
   ],
   "source": [
    "mydict = { \"name\": \"Peter\", \"address\": \"Lowstreet 27\" }\n",
    "\n",
    "x = mycol.insert_one(mydict)\n",
    "\n",
    "print(x.inserted_id)"
   ]
  },
  {
   "cell_type": "code",
   "execution_count": 12,
   "id": "f80ce3a7",
   "metadata": {},
   "outputs": [
    {
     "name": "stdout",
     "output_type": "stream",
     "text": [
      "[ObjectId('648ef174d0b39d33fba38a53'), ObjectId('648ef174d0b39d33fba38a54'), ObjectId('648ef174d0b39d33fba38a55'), ObjectId('648ef174d0b39d33fba38a56'), ObjectId('648ef174d0b39d33fba38a57'), ObjectId('648ef174d0b39d33fba38a58'), ObjectId('648ef174d0b39d33fba38a59'), ObjectId('648ef174d0b39d33fba38a5a'), ObjectId('648ef174d0b39d33fba38a5b'), ObjectId('648ef175d0b39d33fba38a5c'), ObjectId('648ef175d0b39d33fba38a5d'), ObjectId('648ef175d0b39d33fba38a5e')]\n"
     ]
    }
   ],
   "source": [
    "#Insert Multiple Documents\n",
    "import pymongo\n",
    "\n",
    "myclient = pymongo.MongoClient(\"mongodb://localhost:27017/\")\n",
    "mydb = myclient[\"mydatabase\"]\n",
    "mycol = mydb[\"customers\"]\n",
    "\n",
    "mylist = [\n",
    "  { \"name\": \"Amy\", \"address\": \"Apple st 652\"},\n",
    "  { \"name\": \"Hannah\", \"address\": \"Mountain 21\"},\n",
    "  { \"name\": \"Michael\", \"address\": \"Valley 345\"},\n",
    "  { \"name\": \"Sandy\", \"address\": \"Ocean blvd 2\"},\n",
    "  { \"name\": \"Betty\", \"address\": \"Green Grass 1\"},\n",
    "  { \"name\": \"Richard\", \"address\": \"Sky st 331\"},\n",
    "  { \"name\": \"Susan\", \"address\": \"One way 98\"},\n",
    "  { \"name\": \"Vicky\", \"address\": \"Yellow Garden 2\"},\n",
    "  { \"name\": \"Ben\", \"address\": \"Park Lane 38\"},\n",
    "  { \"name\": \"William\", \"address\": \"Central st 954\"},\n",
    "  { \"name\": \"Chuck\", \"address\": \"Main Road 989\"},\n",
    "  { \"name\": \"Viola\", \"address\": \"Sideway 1633\"}\n",
    "]\n",
    "\n",
    "x = mycol.insert_many(mylist)\n",
    "\n",
    "#print list of the _id values of the inserted documents:\n",
    "print(x.inserted_ids)"
   ]
  },
  {
   "cell_type": "code",
   "execution_count": 13,
   "id": "db72fd03",
   "metadata": {},
   "outputs": [
    {
     "name": "stdout",
     "output_type": "stream",
     "text": [
      "[1, 2, 3, 4, 5, 6, 7, 8, 9, 10, 11, 12, 13, 14]\n"
     ]
    }
   ],
   "source": [
    "#Insert Multiple Documents, with Specified IDs\n",
    "import pymongo\n",
    "\n",
    "myclient = pymongo.MongoClient(\"mongodb://localhost:27017/\")\n",
    "mydb = myclient[\"mydatabase\"]\n",
    "mycol = mydb[\"customers\"]\n",
    "\n",
    "mylist = [\n",
    "  { \"_id\": 1, \"name\": \"John\", \"address\": \"Highway 37\"},\n",
    "  { \"_id\": 2, \"name\": \"Peter\", \"address\": \"Lowstreet 27\"},\n",
    "  { \"_id\": 3, \"name\": \"Amy\", \"address\": \"Apple st 652\"},\n",
    "  { \"_id\": 4, \"name\": \"Hannah\", \"address\": \"Mountain 21\"},\n",
    "  { \"_id\": 5, \"name\": \"Michael\", \"address\": \"Valley 345\"},\n",
    "  { \"_id\": 6, \"name\": \"Sandy\", \"address\": \"Ocean blvd 2\"},\n",
    "  { \"_id\": 7, \"name\": \"Betty\", \"address\": \"Green Grass 1\"},\n",
    "  { \"_id\": 8, \"name\": \"Richard\", \"address\": \"Sky st 331\"},\n",
    "  { \"_id\": 9, \"name\": \"Susan\", \"address\": \"One way 98\"},\n",
    "  { \"_id\": 10, \"name\": \"Vicky\", \"address\": \"Yellow Garden 2\"},\n",
    "  { \"_id\": 11, \"name\": \"Ben\", \"address\": \"Park Lane 38\"},\n",
    "  { \"_id\": 12, \"name\": \"William\", \"address\": \"Central st 954\"},\n",
    "  { \"_id\": 13, \"name\": \"Chuck\", \"address\": \"Main Road 989\"},\n",
    "  { \"_id\": 14, \"name\": \"Viola\", \"address\": \"Sideway 1633\"}\n",
    "]\n",
    "\n",
    "x = mycol.insert_many(mylist)\n",
    "\n",
    "#print list of the _id values of the inserted documents:\n",
    "print(x.inserted_ids)"
   ]
  },
  {
   "cell_type": "code",
   "execution_count": 14,
   "id": "c4e11c8b",
   "metadata": {},
   "outputs": [
    {
     "name": "stdout",
     "output_type": "stream",
     "text": [
      "{'_id': ObjectId('648ef10ad0b39d33fba38a43'), 'name': 'John', 'address': 'Highway 37'}\n"
     ]
    }
   ],
   "source": [
    "#Find the first document in the customers collection:\n",
    "import pymongo\n",
    "\n",
    "myclient = pymongo.MongoClient(\"mongodb://localhost:27017/\")\n",
    "mydb = myclient[\"mydatabase\"]\n",
    "mycol = mydb[\"customers\"]\n",
    "\n",
    "x = mycol.find_one()\n",
    "\n",
    "print(x)"
   ]
  },
  {
   "cell_type": "code",
   "execution_count": 17,
   "id": "d8047daa",
   "metadata": {},
   "outputs": [
    {
     "name": "stdout",
     "output_type": "stream",
     "text": [
      "{'_id': ObjectId('648ef10ad0b39d33fba38a43'), 'name': 'John', 'address': 'Highway 37'}\n",
      "{'_id': ObjectId('648ef11ad0b39d33fba38a44'), 'name': 'Peter', 'address': 'Lowstreet 27'}\n",
      "{'_id': ObjectId('648ef15fd0b39d33fba38a46'), 'name': 'Amy', 'address': 'Apple st 652'}\n",
      "{'_id': ObjectId('648ef15fd0b39d33fba38a47'), 'name': 'Hannah', 'address': 'Mountain 21'}\n",
      "{'_id': ObjectId('648ef15fd0b39d33fba38a48'), 'name': 'Michael', 'address': 'Valley 345'}\n",
      "{'_id': ObjectId('648ef15fd0b39d33fba38a49'), 'name': 'Sandy', 'address': 'Ocean blvd 2'}\n",
      "{'_id': ObjectId('648ef15fd0b39d33fba38a4a'), 'name': 'Betty', 'address': 'Green Grass 1'}\n",
      "{'_id': ObjectId('648ef15fd0b39d33fba38a4b'), 'name': 'Richard', 'address': 'Sky st 331'}\n",
      "{'_id': ObjectId('648ef15fd0b39d33fba38a4c'), 'name': 'Susan', 'address': 'One way 98'}\n",
      "{'_id': ObjectId('648ef15fd0b39d33fba38a4d'), 'name': 'Vicky', 'address': 'Yellow Garden 2'}\n",
      "{'_id': ObjectId('648ef15fd0b39d33fba38a4e'), 'name': 'Ben', 'address': 'Park Lane 38'}\n",
      "{'_id': ObjectId('648ef15fd0b39d33fba38a4f'), 'name': 'William', 'address': 'Central st 954'}\n",
      "{'_id': ObjectId('648ef15fd0b39d33fba38a50'), 'name': 'Chuck', 'address': 'Main Road 989'}\n",
      "{'_id': ObjectId('648ef15fd0b39d33fba38a51'), 'name': 'Viola', 'address': 'Sideway 1633'}\n",
      "{'_id': ObjectId('648ef174d0b39d33fba38a53'), 'name': 'Amy', 'address': 'Apple st 652'}\n",
      "{'_id': ObjectId('648ef174d0b39d33fba38a54'), 'name': 'Hannah', 'address': 'Mountain 21'}\n",
      "{'_id': ObjectId('648ef174d0b39d33fba38a55'), 'name': 'Michael', 'address': 'Valley 345'}\n",
      "{'_id': ObjectId('648ef174d0b39d33fba38a56'), 'name': 'Sandy', 'address': 'Ocean blvd 2'}\n",
      "{'_id': ObjectId('648ef174d0b39d33fba38a57'), 'name': 'Betty', 'address': 'Green Grass 1'}\n",
      "{'_id': ObjectId('648ef174d0b39d33fba38a58'), 'name': 'Richard', 'address': 'Sky st 331'}\n",
      "{'_id': ObjectId('648ef174d0b39d33fba38a59'), 'name': 'Susan', 'address': 'One way 98'}\n",
      "{'_id': ObjectId('648ef174d0b39d33fba38a5a'), 'name': 'Vicky', 'address': 'Yellow Garden 2'}\n",
      "{'_id': ObjectId('648ef174d0b39d33fba38a5b'), 'name': 'Ben', 'address': 'Park Lane 38'}\n",
      "{'_id': ObjectId('648ef175d0b39d33fba38a5c'), 'name': 'William', 'address': 'Central st 954'}\n",
      "{'_id': ObjectId('648ef175d0b39d33fba38a5d'), 'name': 'Chuck', 'address': 'Main Road 989'}\n",
      "{'_id': ObjectId('648ef175d0b39d33fba38a5e'), 'name': 'Viola', 'address': 'Sideway 1633'}\n",
      "{'_id': 1, 'name': 'John', 'address': 'Highway 37'}\n",
      "{'_id': 2, 'name': 'Peter', 'address': 'Lowstreet 27'}\n",
      "{'_id': 3, 'name': 'Amy', 'address': 'Apple st 652'}\n",
      "{'_id': 4, 'name': 'Hannah', 'address': 'Mountain 21'}\n",
      "{'_id': 5, 'name': 'Michael', 'address': 'Valley 345'}\n",
      "{'_id': 6, 'name': 'Sandy', 'address': 'Ocean blvd 2'}\n",
      "{'_id': 7, 'name': 'Betty', 'address': 'Green Grass 1'}\n",
      "{'_id': 8, 'name': 'Richard', 'address': 'Sky st 331'}\n",
      "{'_id': 9, 'name': 'Susan', 'address': 'One way 98'}\n",
      "{'_id': 10, 'name': 'Vicky', 'address': 'Yellow Garden 2'}\n",
      "{'_id': 11, 'name': 'Ben', 'address': 'Park Lane 38'}\n",
      "{'_id': 12, 'name': 'William', 'address': 'Central st 954'}\n",
      "{'_id': 13, 'name': 'Chuck', 'address': 'Main Road 989'}\n",
      "{'_id': 14, 'name': 'Viola', 'address': 'Sideway 1633'}\n"
     ]
    }
   ],
   "source": [
    "#Return all documents in the \"customers\" collection, and print each document:\n",
    "import pymongo\n",
    "\n",
    "myclient = pymongo.MongoClient(\"mongodb://localhost:27017/\")\n",
    "mydb = myclient[\"mydatabase\"]\n",
    "mycol = mydb[\"customers\"]\n",
    "\n",
    "for x in mycol.find():\n",
    "    print(x)"
   ]
  },
  {
   "cell_type": "code",
   "execution_count": 18,
   "id": "12100c7e",
   "metadata": {},
   "outputs": [
    {
     "name": "stdout",
     "output_type": "stream",
     "text": [
      "{'name': 'John', 'address': 'Highway 37'}\n",
      "{'name': 'Peter', 'address': 'Lowstreet 27'}\n",
      "{'name': 'Amy', 'address': 'Apple st 652'}\n",
      "{'name': 'Hannah', 'address': 'Mountain 21'}\n",
      "{'name': 'Michael', 'address': 'Valley 345'}\n",
      "{'name': 'Sandy', 'address': 'Ocean blvd 2'}\n",
      "{'name': 'Betty', 'address': 'Green Grass 1'}\n",
      "{'name': 'Richard', 'address': 'Sky st 331'}\n",
      "{'name': 'Susan', 'address': 'One way 98'}\n",
      "{'name': 'Vicky', 'address': 'Yellow Garden 2'}\n",
      "{'name': 'Ben', 'address': 'Park Lane 38'}\n",
      "{'name': 'William', 'address': 'Central st 954'}\n",
      "{'name': 'Chuck', 'address': 'Main Road 989'}\n",
      "{'name': 'Viola', 'address': 'Sideway 1633'}\n",
      "{'name': 'Amy', 'address': 'Apple st 652'}\n",
      "{'name': 'Hannah', 'address': 'Mountain 21'}\n",
      "{'name': 'Michael', 'address': 'Valley 345'}\n",
      "{'name': 'Sandy', 'address': 'Ocean blvd 2'}\n",
      "{'name': 'Betty', 'address': 'Green Grass 1'}\n",
      "{'name': 'Richard', 'address': 'Sky st 331'}\n",
      "{'name': 'Susan', 'address': 'One way 98'}\n",
      "{'name': 'Vicky', 'address': 'Yellow Garden 2'}\n",
      "{'name': 'Ben', 'address': 'Park Lane 38'}\n",
      "{'name': 'William', 'address': 'Central st 954'}\n",
      "{'name': 'Chuck', 'address': 'Main Road 989'}\n",
      "{'name': 'Viola', 'address': 'Sideway 1633'}\n",
      "{'name': 'John', 'address': 'Highway 37'}\n",
      "{'name': 'Peter', 'address': 'Lowstreet 27'}\n",
      "{'name': 'Amy', 'address': 'Apple st 652'}\n",
      "{'name': 'Hannah', 'address': 'Mountain 21'}\n",
      "{'name': 'Michael', 'address': 'Valley 345'}\n",
      "{'name': 'Sandy', 'address': 'Ocean blvd 2'}\n",
      "{'name': 'Betty', 'address': 'Green Grass 1'}\n",
      "{'name': 'Richard', 'address': 'Sky st 331'}\n",
      "{'name': 'Susan', 'address': 'One way 98'}\n",
      "{'name': 'Vicky', 'address': 'Yellow Garden 2'}\n",
      "{'name': 'Ben', 'address': 'Park Lane 38'}\n",
      "{'name': 'William', 'address': 'Central st 954'}\n",
      "{'name': 'Chuck', 'address': 'Main Road 989'}\n",
      "{'name': 'Viola', 'address': 'Sideway 1633'}\n"
     ]
    }
   ],
   "source": [
    "import pymongo\n",
    "\n",
    "myclient = pymongo.MongoClient(\"mongodb://localhost:27017/\")\n",
    "mydb = myclient[\"mydatabase\"]\n",
    "mycol = mydb[\"customers\"]\n",
    "\n",
    "for x in mycol.find({},{ \"_id\": 0, \"name\": 1, \"address\": 1 }):\n",
    "    print(x)\n"
   ]
  },
  {
   "cell_type": "code",
   "execution_count": 19,
   "id": "9751bd4c",
   "metadata": {},
   "outputs": [
    {
     "name": "stdout",
     "output_type": "stream",
     "text": [
      "{'_id': ObjectId('648ef10ad0b39d33fba38a43'), 'name': 'John'}\n",
      "{'_id': ObjectId('648ef11ad0b39d33fba38a44'), 'name': 'Peter'}\n",
      "{'_id': ObjectId('648ef15fd0b39d33fba38a46'), 'name': 'Amy'}\n",
      "{'_id': ObjectId('648ef15fd0b39d33fba38a47'), 'name': 'Hannah'}\n",
      "{'_id': ObjectId('648ef15fd0b39d33fba38a48'), 'name': 'Michael'}\n",
      "{'_id': ObjectId('648ef15fd0b39d33fba38a49'), 'name': 'Sandy'}\n",
      "{'_id': ObjectId('648ef15fd0b39d33fba38a4a'), 'name': 'Betty'}\n",
      "{'_id': ObjectId('648ef15fd0b39d33fba38a4b'), 'name': 'Richard'}\n",
      "{'_id': ObjectId('648ef15fd0b39d33fba38a4c'), 'name': 'Susan'}\n",
      "{'_id': ObjectId('648ef15fd0b39d33fba38a4d'), 'name': 'Vicky'}\n",
      "{'_id': ObjectId('648ef15fd0b39d33fba38a4e'), 'name': 'Ben'}\n",
      "{'_id': ObjectId('648ef15fd0b39d33fba38a4f'), 'name': 'William'}\n",
      "{'_id': ObjectId('648ef15fd0b39d33fba38a50'), 'name': 'Chuck'}\n",
      "{'_id': ObjectId('648ef15fd0b39d33fba38a51'), 'name': 'Viola'}\n",
      "{'_id': ObjectId('648ef174d0b39d33fba38a53'), 'name': 'Amy'}\n",
      "{'_id': ObjectId('648ef174d0b39d33fba38a54'), 'name': 'Hannah'}\n",
      "{'_id': ObjectId('648ef174d0b39d33fba38a55'), 'name': 'Michael'}\n",
      "{'_id': ObjectId('648ef174d0b39d33fba38a56'), 'name': 'Sandy'}\n",
      "{'_id': ObjectId('648ef174d0b39d33fba38a57'), 'name': 'Betty'}\n",
      "{'_id': ObjectId('648ef174d0b39d33fba38a58'), 'name': 'Richard'}\n",
      "{'_id': ObjectId('648ef174d0b39d33fba38a59'), 'name': 'Susan'}\n",
      "{'_id': ObjectId('648ef174d0b39d33fba38a5a'), 'name': 'Vicky'}\n",
      "{'_id': ObjectId('648ef174d0b39d33fba38a5b'), 'name': 'Ben'}\n",
      "{'_id': ObjectId('648ef175d0b39d33fba38a5c'), 'name': 'William'}\n",
      "{'_id': ObjectId('648ef175d0b39d33fba38a5d'), 'name': 'Chuck'}\n",
      "{'_id': ObjectId('648ef175d0b39d33fba38a5e'), 'name': 'Viola'}\n",
      "{'_id': 1, 'name': 'John'}\n",
      "{'_id': 2, 'name': 'Peter'}\n",
      "{'_id': 3, 'name': 'Amy'}\n",
      "{'_id': 4, 'name': 'Hannah'}\n",
      "{'_id': 5, 'name': 'Michael'}\n",
      "{'_id': 6, 'name': 'Sandy'}\n",
      "{'_id': 7, 'name': 'Betty'}\n",
      "{'_id': 8, 'name': 'Richard'}\n",
      "{'_id': 9, 'name': 'Susan'}\n",
      "{'_id': 10, 'name': 'Vicky'}\n",
      "{'_id': 11, 'name': 'Ben'}\n",
      "{'_id': 12, 'name': 'William'}\n",
      "{'_id': 13, 'name': 'Chuck'}\n",
      "{'_id': 14, 'name': 'Viola'}\n"
     ]
    }
   ],
   "source": [
    "import pymongo\n",
    "\n",
    "myclient = pymongo.MongoClient(\"mongodb://localhost:27017/\")\n",
    "mydb = myclient[\"mydatabase\"]\n",
    "mycol = mydb[\"customers\"]\n",
    "\n",
    "for x in mycol.find({},{ \"address\": 0 }):\n",
    "    print(x)"
   ]
  },
  {
   "cell_type": "code",
   "execution_count": 21,
   "id": "31b74cba",
   "metadata": {},
   "outputs": [
    {
     "name": "stdout",
     "output_type": "stream",
     "text": [
      "{'_id': ObjectId('648ef15fd0b39d33fba38a4e'), 'name': 'Ben', 'address': 'Park Lane 38'}\n",
      "{'_id': ObjectId('648ef174d0b39d33fba38a5b'), 'name': 'Ben', 'address': 'Park Lane 38'}\n",
      "{'_id': 11, 'name': 'Ben', 'address': 'Park Lane 38'}\n"
     ]
    }
   ],
   "source": [
    "#Find document(s) with the address \"Park Lane 38\":\n",
    "import pymongo\n",
    "\n",
    "myclient = pymongo.MongoClient(\"mongodb://localhost:27017/\")\n",
    "mydb = myclient[\"mydatabase\"]\n",
    "mycol = mydb[\"customers\"]\n",
    "\n",
    "myquery = { \"address\": \"Park Lane 38\" }\n",
    "\n",
    "mydoc = mycol.find(myquery)\n",
    "\n",
    "for x in mydoc:\n",
    "    print(x)"
   ]
  },
  {
   "cell_type": "code",
   "execution_count": 22,
   "id": "acf86308",
   "metadata": {},
   "outputs": [
    {
     "name": "stdout",
     "output_type": "stream",
     "text": [
      "{'_id': ObjectId('648ef15fd0b39d33fba38a48'), 'name': 'Michael', 'address': 'Valley 345'}\n",
      "{'_id': ObjectId('648ef15fd0b39d33fba38a4b'), 'name': 'Richard', 'address': 'Sky st 331'}\n",
      "{'_id': ObjectId('648ef15fd0b39d33fba38a4d'), 'name': 'Vicky', 'address': 'Yellow Garden 2'}\n",
      "{'_id': ObjectId('648ef15fd0b39d33fba38a51'), 'name': 'Viola', 'address': 'Sideway 1633'}\n",
      "{'_id': ObjectId('648ef174d0b39d33fba38a55'), 'name': 'Michael', 'address': 'Valley 345'}\n",
      "{'_id': ObjectId('648ef174d0b39d33fba38a58'), 'name': 'Richard', 'address': 'Sky st 331'}\n",
      "{'_id': ObjectId('648ef174d0b39d33fba38a5a'), 'name': 'Vicky', 'address': 'Yellow Garden 2'}\n",
      "{'_id': ObjectId('648ef175d0b39d33fba38a5e'), 'name': 'Viola', 'address': 'Sideway 1633'}\n",
      "{'_id': 5, 'name': 'Michael', 'address': 'Valley 345'}\n",
      "{'_id': 8, 'name': 'Richard', 'address': 'Sky st 331'}\n",
      "{'_id': 10, 'name': 'Vicky', 'address': 'Yellow Garden 2'}\n",
      "{'_id': 14, 'name': 'Viola', 'address': 'Sideway 1633'}\n"
     ]
    }
   ],
   "source": [
    "#Find documents where the address starts with the letter \"S\" or higher:\n",
    "import pymongo\n",
    "\n",
    "myclient = pymongo.MongoClient(\"mongodb://localhost:27017/\")\n",
    "mydb = myclient[\"mydatabase\"]\n",
    "mycol = mydb[\"customers\"]\n",
    "\n",
    "myquery = { \"address\": { \"$gt\": \"S\" } }\n",
    "\n",
    "mydoc = mycol.find(myquery)\n",
    "\n",
    "for x in mydoc:\n",
    "    print(x)"
   ]
  },
  {
   "cell_type": "code",
   "execution_count": 23,
   "id": "5b57bb5f",
   "metadata": {},
   "outputs": [
    {
     "name": "stdout",
     "output_type": "stream",
     "text": [
      "{'_id': ObjectId('648ef15fd0b39d33fba38a4b'), 'name': 'Richard', 'address': 'Sky st 331'}\n",
      "{'_id': ObjectId('648ef15fd0b39d33fba38a51'), 'name': 'Viola', 'address': 'Sideway 1633'}\n",
      "{'_id': ObjectId('648ef174d0b39d33fba38a58'), 'name': 'Richard', 'address': 'Sky st 331'}\n",
      "{'_id': ObjectId('648ef175d0b39d33fba38a5e'), 'name': 'Viola', 'address': 'Sideway 1633'}\n",
      "{'_id': 8, 'name': 'Richard', 'address': 'Sky st 331'}\n",
      "{'_id': 14, 'name': 'Viola', 'address': 'Sideway 1633'}\n"
     ]
    }
   ],
   "source": [
    "#Find documents where the address starts with the letter \"S\":\n",
    "import pymongo\n",
    "\n",
    "myclient = pymongo.MongoClient(\"mongodb://localhost:27017/\")\n",
    "mydb = myclient[\"mydatabase\"]\n",
    "mycol = mydb[\"customers\"]\n",
    "\n",
    "myquery = { \"address\": { \"$regex\": \"^S\" } }\n",
    "\n",
    "mydoc = mycol.find(myquery)\n",
    "\n",
    "for x in mydoc:\n",
    "    print(x)"
   ]
  },
  {
   "cell_type": "code",
   "execution_count": 24,
   "id": "28a890ce",
   "metadata": {},
   "outputs": [
    {
     "name": "stdout",
     "output_type": "stream",
     "text": [
      "{'_id': ObjectId('648ef15fd0b39d33fba38a46'), 'name': 'Amy', 'address': 'Apple st 652'}\n",
      "{'_id': ObjectId('648ef174d0b39d33fba38a53'), 'name': 'Amy', 'address': 'Apple st 652'}\n",
      "{'_id': 3, 'name': 'Amy', 'address': 'Apple st 652'}\n",
      "{'_id': ObjectId('648ef15fd0b39d33fba38a4e'), 'name': 'Ben', 'address': 'Park Lane 38'}\n",
      "{'_id': ObjectId('648ef174d0b39d33fba38a5b'), 'name': 'Ben', 'address': 'Park Lane 38'}\n",
      "{'_id': 11, 'name': 'Ben', 'address': 'Park Lane 38'}\n",
      "{'_id': ObjectId('648ef15fd0b39d33fba38a4a'), 'name': 'Betty', 'address': 'Green Grass 1'}\n",
      "{'_id': ObjectId('648ef174d0b39d33fba38a57'), 'name': 'Betty', 'address': 'Green Grass 1'}\n",
      "{'_id': 7, 'name': 'Betty', 'address': 'Green Grass 1'}\n",
      "{'_id': ObjectId('648ef15fd0b39d33fba38a50'), 'name': 'Chuck', 'address': 'Main Road 989'}\n",
      "{'_id': ObjectId('648ef175d0b39d33fba38a5d'), 'name': 'Chuck', 'address': 'Main Road 989'}\n",
      "{'_id': 13, 'name': 'Chuck', 'address': 'Main Road 989'}\n",
      "{'_id': ObjectId('648ef15fd0b39d33fba38a47'), 'name': 'Hannah', 'address': 'Mountain 21'}\n",
      "{'_id': ObjectId('648ef174d0b39d33fba38a54'), 'name': 'Hannah', 'address': 'Mountain 21'}\n",
      "{'_id': 4, 'name': 'Hannah', 'address': 'Mountain 21'}\n",
      "{'_id': ObjectId('648ef10ad0b39d33fba38a43'), 'name': 'John', 'address': 'Highway 37'}\n",
      "{'_id': 1, 'name': 'John', 'address': 'Highway 37'}\n",
      "{'_id': ObjectId('648ef15fd0b39d33fba38a48'), 'name': 'Michael', 'address': 'Valley 345'}\n",
      "{'_id': ObjectId('648ef174d0b39d33fba38a55'), 'name': 'Michael', 'address': 'Valley 345'}\n",
      "{'_id': 5, 'name': 'Michael', 'address': 'Valley 345'}\n",
      "{'_id': ObjectId('648ef11ad0b39d33fba38a44'), 'name': 'Peter', 'address': 'Lowstreet 27'}\n",
      "{'_id': 2, 'name': 'Peter', 'address': 'Lowstreet 27'}\n",
      "{'_id': ObjectId('648ef15fd0b39d33fba38a4b'), 'name': 'Richard', 'address': 'Sky st 331'}\n",
      "{'_id': ObjectId('648ef174d0b39d33fba38a58'), 'name': 'Richard', 'address': 'Sky st 331'}\n",
      "{'_id': 8, 'name': 'Richard', 'address': 'Sky st 331'}\n",
      "{'_id': ObjectId('648ef15fd0b39d33fba38a49'), 'name': 'Sandy', 'address': 'Ocean blvd 2'}\n",
      "{'_id': ObjectId('648ef174d0b39d33fba38a56'), 'name': 'Sandy', 'address': 'Ocean blvd 2'}\n",
      "{'_id': 6, 'name': 'Sandy', 'address': 'Ocean blvd 2'}\n",
      "{'_id': ObjectId('648ef15fd0b39d33fba38a4c'), 'name': 'Susan', 'address': 'One way 98'}\n",
      "{'_id': ObjectId('648ef174d0b39d33fba38a59'), 'name': 'Susan', 'address': 'One way 98'}\n",
      "{'_id': 9, 'name': 'Susan', 'address': 'One way 98'}\n",
      "{'_id': ObjectId('648ef15fd0b39d33fba38a4d'), 'name': 'Vicky', 'address': 'Yellow Garden 2'}\n",
      "{'_id': ObjectId('648ef174d0b39d33fba38a5a'), 'name': 'Vicky', 'address': 'Yellow Garden 2'}\n",
      "{'_id': 10, 'name': 'Vicky', 'address': 'Yellow Garden 2'}\n",
      "{'_id': ObjectId('648ef15fd0b39d33fba38a51'), 'name': 'Viola', 'address': 'Sideway 1633'}\n",
      "{'_id': ObjectId('648ef175d0b39d33fba38a5e'), 'name': 'Viola', 'address': 'Sideway 1633'}\n",
      "{'_id': 14, 'name': 'Viola', 'address': 'Sideway 1633'}\n",
      "{'_id': ObjectId('648ef15fd0b39d33fba38a4f'), 'name': 'William', 'address': 'Central st 954'}\n",
      "{'_id': ObjectId('648ef175d0b39d33fba38a5c'), 'name': 'William', 'address': 'Central st 954'}\n",
      "{'_id': 12, 'name': 'William', 'address': 'Central st 954'}\n"
     ]
    }
   ],
   "source": [
    "#Sort the result alphabetically by name:\n",
    "import pymongo\n",
    "\n",
    "myclient = pymongo.MongoClient(\"mongodb://localhost:27017/\")\n",
    "mydb = myclient[\"mydatabase\"]\n",
    "mycol = mydb[\"customers\"]\n",
    "\n",
    "mydoc = mycol.find().sort(\"name\")\n",
    "\n",
    "for x in mydoc:\n",
    "    print(x)"
   ]
  },
  {
   "cell_type": "code",
   "execution_count": 26,
   "id": "211622cf",
   "metadata": {},
   "outputs": [
    {
     "name": "stdout",
     "output_type": "stream",
     "text": [
      "{'_id': ObjectId('648ef15fd0b39d33fba38a4f'), 'name': 'William', 'address': 'Central st 954'}\n",
      "{'_id': ObjectId('648ef175d0b39d33fba38a5c'), 'name': 'William', 'address': 'Central st 954'}\n",
      "{'_id': 12, 'name': 'William', 'address': 'Central st 954'}\n",
      "{'_id': ObjectId('648ef15fd0b39d33fba38a51'), 'name': 'Viola', 'address': 'Sideway 1633'}\n",
      "{'_id': ObjectId('648ef175d0b39d33fba38a5e'), 'name': 'Viola', 'address': 'Sideway 1633'}\n",
      "{'_id': 14, 'name': 'Viola', 'address': 'Sideway 1633'}\n",
      "{'_id': ObjectId('648ef15fd0b39d33fba38a4d'), 'name': 'Vicky', 'address': 'Yellow Garden 2'}\n",
      "{'_id': ObjectId('648ef174d0b39d33fba38a5a'), 'name': 'Vicky', 'address': 'Yellow Garden 2'}\n",
      "{'_id': 10, 'name': 'Vicky', 'address': 'Yellow Garden 2'}\n",
      "{'_id': ObjectId('648ef15fd0b39d33fba38a4c'), 'name': 'Susan', 'address': 'One way 98'}\n",
      "{'_id': ObjectId('648ef174d0b39d33fba38a59'), 'name': 'Susan', 'address': 'One way 98'}\n",
      "{'_id': 9, 'name': 'Susan', 'address': 'One way 98'}\n",
      "{'_id': ObjectId('648ef15fd0b39d33fba38a49'), 'name': 'Sandy', 'address': 'Ocean blvd 2'}\n",
      "{'_id': ObjectId('648ef174d0b39d33fba38a56'), 'name': 'Sandy', 'address': 'Ocean blvd 2'}\n",
      "{'_id': 6, 'name': 'Sandy', 'address': 'Ocean blvd 2'}\n",
      "{'_id': ObjectId('648ef15fd0b39d33fba38a4b'), 'name': 'Richard', 'address': 'Sky st 331'}\n",
      "{'_id': ObjectId('648ef174d0b39d33fba38a58'), 'name': 'Richard', 'address': 'Sky st 331'}\n",
      "{'_id': 8, 'name': 'Richard', 'address': 'Sky st 331'}\n",
      "{'_id': ObjectId('648ef11ad0b39d33fba38a44'), 'name': 'Peter', 'address': 'Lowstreet 27'}\n",
      "{'_id': 2, 'name': 'Peter', 'address': 'Lowstreet 27'}\n",
      "{'_id': ObjectId('648ef15fd0b39d33fba38a48'), 'name': 'Michael', 'address': 'Valley 345'}\n",
      "{'_id': ObjectId('648ef174d0b39d33fba38a55'), 'name': 'Michael', 'address': 'Valley 345'}\n",
      "{'_id': 5, 'name': 'Michael', 'address': 'Valley 345'}\n",
      "{'_id': ObjectId('648ef10ad0b39d33fba38a43'), 'name': 'John', 'address': 'Highway 37'}\n",
      "{'_id': 1, 'name': 'John', 'address': 'Highway 37'}\n",
      "{'_id': ObjectId('648ef15fd0b39d33fba38a47'), 'name': 'Hannah', 'address': 'Mountain 21'}\n",
      "{'_id': ObjectId('648ef174d0b39d33fba38a54'), 'name': 'Hannah', 'address': 'Mountain 21'}\n",
      "{'_id': 4, 'name': 'Hannah', 'address': 'Mountain 21'}\n",
      "{'_id': ObjectId('648ef15fd0b39d33fba38a50'), 'name': 'Chuck', 'address': 'Main Road 989'}\n",
      "{'_id': ObjectId('648ef175d0b39d33fba38a5d'), 'name': 'Chuck', 'address': 'Main Road 989'}\n",
      "{'_id': 13, 'name': 'Chuck', 'address': 'Main Road 989'}\n",
      "{'_id': ObjectId('648ef15fd0b39d33fba38a4a'), 'name': 'Betty', 'address': 'Green Grass 1'}\n",
      "{'_id': ObjectId('648ef174d0b39d33fba38a57'), 'name': 'Betty', 'address': 'Green Grass 1'}\n",
      "{'_id': 7, 'name': 'Betty', 'address': 'Green Grass 1'}\n",
      "{'_id': ObjectId('648ef15fd0b39d33fba38a4e'), 'name': 'Ben', 'address': 'Park Lane 38'}\n",
      "{'_id': ObjectId('648ef174d0b39d33fba38a5b'), 'name': 'Ben', 'address': 'Park Lane 38'}\n",
      "{'_id': 11, 'name': 'Ben', 'address': 'Park Lane 38'}\n",
      "{'_id': ObjectId('648ef15fd0b39d33fba38a46'), 'name': 'Amy', 'address': 'Apple st 652'}\n",
      "{'_id': ObjectId('648ef174d0b39d33fba38a53'), 'name': 'Amy', 'address': 'Apple st 652'}\n",
      "{'_id': 3, 'name': 'Amy', 'address': 'Apple st 652'}\n"
     ]
    }
   ],
   "source": [
    "#sort name by reverse \n",
    "import pymongo\n",
    "\n",
    "myclient = pymongo.MongoClient(\"mongodb://localhost:27017/\")\n",
    "mydb = myclient[\"mydatabase\"]\n",
    "mycol = mydb[\"customers\"]\n",
    "\n",
    "mydoc = mycol.find().sort(\"name\", -1)\n",
    "\n",
    "for x in mydoc:\n",
    "    print(x)"
   ]
  },
  {
   "cell_type": "code",
   "execution_count": 27,
   "id": "b7c07c2b",
   "metadata": {},
   "outputs": [
    {
     "name": "stdout",
     "output_type": "stream",
     "text": [
      "{'_id': ObjectId('648ef10ad0b39d33fba38a43'), 'name': 'John', 'address': 'Highway 37'}\n",
      "{'_id': ObjectId('648ef11ad0b39d33fba38a44'), 'name': 'Peter', 'address': 'Lowstreet 27'}\n",
      "{'_id': ObjectId('648ef15fd0b39d33fba38a46'), 'name': 'Amy', 'address': 'Apple st 652'}\n",
      "{'_id': ObjectId('648ef15fd0b39d33fba38a47'), 'name': 'Hannah', 'address': 'Mountain 21'}\n",
      "{'_id': ObjectId('648ef15fd0b39d33fba38a48'), 'name': 'Michael', 'address': 'Canyon 123'}\n",
      "{'_id': ObjectId('648ef15fd0b39d33fba38a49'), 'name': 'Sandy', 'address': 'Ocean blvd 2'}\n",
      "{'_id': ObjectId('648ef15fd0b39d33fba38a4a'), 'name': 'Betty', 'address': 'Green Grass 1'}\n",
      "{'_id': ObjectId('648ef15fd0b39d33fba38a4b'), 'name': 'Richard', 'address': 'Sky st 331'}\n",
      "{'_id': ObjectId('648ef15fd0b39d33fba38a4c'), 'name': 'Susan', 'address': 'One way 98'}\n",
      "{'_id': ObjectId('648ef15fd0b39d33fba38a4d'), 'name': 'Vicky', 'address': 'Yellow Garden 2'}\n",
      "{'_id': ObjectId('648ef15fd0b39d33fba38a4e'), 'name': 'Ben', 'address': 'Park Lane 38'}\n",
      "{'_id': ObjectId('648ef15fd0b39d33fba38a4f'), 'name': 'William', 'address': 'Central st 954'}\n",
      "{'_id': ObjectId('648ef15fd0b39d33fba38a50'), 'name': 'Chuck', 'address': 'Main Road 989'}\n",
      "{'_id': ObjectId('648ef15fd0b39d33fba38a51'), 'name': 'Viola', 'address': 'Sideway 1633'}\n",
      "{'_id': ObjectId('648ef174d0b39d33fba38a53'), 'name': 'Amy', 'address': 'Apple st 652'}\n",
      "{'_id': ObjectId('648ef174d0b39d33fba38a54'), 'name': 'Hannah', 'address': 'Mountain 21'}\n",
      "{'_id': ObjectId('648ef174d0b39d33fba38a55'), 'name': 'Michael', 'address': 'Valley 345'}\n",
      "{'_id': ObjectId('648ef174d0b39d33fba38a56'), 'name': 'Sandy', 'address': 'Ocean blvd 2'}\n",
      "{'_id': ObjectId('648ef174d0b39d33fba38a57'), 'name': 'Betty', 'address': 'Green Grass 1'}\n",
      "{'_id': ObjectId('648ef174d0b39d33fba38a58'), 'name': 'Richard', 'address': 'Sky st 331'}\n",
      "{'_id': ObjectId('648ef174d0b39d33fba38a59'), 'name': 'Susan', 'address': 'One way 98'}\n",
      "{'_id': ObjectId('648ef174d0b39d33fba38a5a'), 'name': 'Vicky', 'address': 'Yellow Garden 2'}\n",
      "{'_id': ObjectId('648ef174d0b39d33fba38a5b'), 'name': 'Ben', 'address': 'Park Lane 38'}\n",
      "{'_id': ObjectId('648ef175d0b39d33fba38a5c'), 'name': 'William', 'address': 'Central st 954'}\n",
      "{'_id': ObjectId('648ef175d0b39d33fba38a5d'), 'name': 'Chuck', 'address': 'Main Road 989'}\n",
      "{'_id': ObjectId('648ef175d0b39d33fba38a5e'), 'name': 'Viola', 'address': 'Sideway 1633'}\n",
      "{'_id': 1, 'name': 'John', 'address': 'Highway 37'}\n",
      "{'_id': 2, 'name': 'Peter', 'address': 'Lowstreet 27'}\n",
      "{'_id': 3, 'name': 'Amy', 'address': 'Apple st 652'}\n",
      "{'_id': 4, 'name': 'Hannah', 'address': 'Mountain 21'}\n",
      "{'_id': 5, 'name': 'Michael', 'address': 'Valley 345'}\n",
      "{'_id': 6, 'name': 'Sandy', 'address': 'Ocean blvd 2'}\n",
      "{'_id': 7, 'name': 'Betty', 'address': 'Green Grass 1'}\n",
      "{'_id': 8, 'name': 'Richard', 'address': 'Sky st 331'}\n",
      "{'_id': 9, 'name': 'Susan', 'address': 'One way 98'}\n",
      "{'_id': 10, 'name': 'Vicky', 'address': 'Yellow Garden 2'}\n",
      "{'_id': 11, 'name': 'Ben', 'address': 'Park Lane 38'}\n",
      "{'_id': 12, 'name': 'William', 'address': 'Central st 954'}\n",
      "{'_id': 13, 'name': 'Chuck', 'address': 'Main Road 989'}\n",
      "{'_id': 14, 'name': 'Viola', 'address': 'Sideway 1633'}\n"
     ]
    }
   ],
   "source": [
    "#Change the address from \"Valley 345\" to \"Canyon 123\":\n",
    "import pymongo\n",
    "\n",
    "myclient = pymongo.MongoClient(\"mongodb://localhost:27017/\")\n",
    "mydb = myclient[\"mydatabase\"]\n",
    "mycol = mydb[\"customers\"]\n",
    "\n",
    "myquery = { \"address\": \"Valley 345\" }\n",
    "newvalues = { \"$set\": { \"address\": \"Canyon 123\" } }\n",
    "\n",
    "mycol.update_one(myquery, newvalues)\n",
    "\n",
    "#print \"customers\" after the update:\n",
    "for x in mycol.find():\n",
    "    print(x)"
   ]
  },
  {
   "cell_type": "code",
   "execution_count": 28,
   "id": "4912aa5a",
   "metadata": {},
   "outputs": [
    {
     "name": "stdout",
     "output_type": "stream",
     "text": [
      "6 documents updated.\n"
     ]
    }
   ],
   "source": [
    "#Update all documents where the address starts with the letter \"S\":\n",
    "import pymongo\n",
    "\n",
    "myclient = pymongo.MongoClient(\"mongodb://localhost:27017/\")\n",
    "mydb = myclient[\"mydatabase\"]\n",
    "mycol = mydb[\"customers\"]\n",
    "\n",
    "myquery = { \"address\": { \"$regex\": \"^S\" } }\n",
    "newvalues = { \"$set\": { \"name\": \"Minnie\" } }\n",
    "\n",
    "x = mycol.update_many(myquery, newvalues)\n",
    "\n",
    "print(x.modified_count, \"documents updated.\")"
   ]
  },
  {
   "cell_type": "code",
   "execution_count": 29,
   "id": "1ee536a0",
   "metadata": {},
   "outputs": [
    {
     "name": "stdout",
     "output_type": "stream",
     "text": [
      "{'_id': ObjectId('648ef10ad0b39d33fba38a43'), 'name': 'John', 'address': 'Highway 37'}\n",
      "{'_id': ObjectId('648ef11ad0b39d33fba38a44'), 'name': 'Peter', 'address': 'Lowstreet 27'}\n",
      "{'_id': ObjectId('648ef15fd0b39d33fba38a46'), 'name': 'Amy', 'address': 'Apple st 652'}\n",
      "{'_id': ObjectId('648ef15fd0b39d33fba38a47'), 'name': 'Hannah', 'address': 'Mountain 21'}\n",
      "{'_id': ObjectId('648ef15fd0b39d33fba38a48'), 'name': 'Michael', 'address': 'Canyon 123'}\n"
     ]
    }
   ],
   "source": [
    "#Limit the result to only return 5 documents:\n",
    "import pymongo\n",
    "\n",
    "myclient = pymongo.MongoClient(\"mongodb://localhost:27017/\")\n",
    "mydb = myclient[\"mydatabase\"]\n",
    "mycol = mydb[\"customers\"]\n",
    "\n",
    "myresult = mycol.find().limit(5)\n",
    "\n",
    "#print the result:\n",
    "for x in myresult:\n",
    "    print(x)"
   ]
  },
  {
   "cell_type": "code",
   "execution_count": 30,
   "id": "29f6bc23",
   "metadata": {},
   "outputs": [
    {
     "data": {
      "text/plain": [
       "<pymongo.results.DeleteResult at 0x180b2483b80>"
      ]
     },
     "execution_count": 30,
     "metadata": {},
     "output_type": "execute_result"
    }
   ],
   "source": [
    "#Delete the document with the address \"Mountain 21\":\n",
    "import pymongo\n",
    "\n",
    "myclient = pymongo.MongoClient(\"mongodb://localhost:27017/\")\n",
    "mydb = myclient[\"mydatabase\"]\n",
    "mycol = mydb[\"customers\"]\n",
    "\n",
    "myquery = { \"address\": \"Mountain 21\" }\n",
    "\n",
    "mycol.delete_one(myquery)"
   ]
  },
  {
   "cell_type": "code",
   "execution_count": 31,
   "id": "1e750cc2",
   "metadata": {},
   "outputs": [
    {
     "name": "stdout",
     "output_type": "stream",
     "text": [
      "6  documents deleted.\n"
     ]
    }
   ],
   "source": [
    "#Delete all documents were the address starts with the letter S:\n",
    "import pymongo\n",
    "\n",
    "myclient = pymongo.MongoClient(\"mongodb://localhost:27017/\")\n",
    "mydb = myclient[\"mydatabase\"]\n",
    "mycol = mydb[\"customers\"]\n",
    "\n",
    "myquery = { \"address\": {\"$regex\": \"^S\"} }\n",
    "\n",
    "x = mycol.delete_many(myquery)\n",
    "\n",
    "print(x.deleted_count, \" documents deleted.\")"
   ]
  },
  {
   "cell_type": "code",
   "execution_count": null,
   "id": "30643456",
   "metadata": {},
   "outputs": [],
   "source": []
  }
 ],
 "metadata": {
  "kernelspec": {
   "display_name": "Python 3 (ipykernel)",
   "language": "python",
   "name": "python3"
  },
  "language_info": {
   "codemirror_mode": {
    "name": "ipython",
    "version": 3
   },
   "file_extension": ".py",
   "mimetype": "text/x-python",
   "name": "python",
   "nbconvert_exporter": "python",
   "pygments_lexer": "ipython3",
   "version": "3.9.12"
  }
 },
 "nbformat": 4,
 "nbformat_minor": 5
}
